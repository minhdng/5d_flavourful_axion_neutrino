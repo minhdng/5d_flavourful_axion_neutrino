{
 "cells": [
  {
   "cell_type": "code",
   "execution_count": 47,
   "metadata": {},
   "outputs": [],
   "source": [
    "import numpy as np\n",
    "import pandas as pd\n",
    "import seaborn as sns\n",
    "import matplotlib.pyplot as plt"
   ]
  },
  {
   "cell_type": "code",
   "execution_count": 38,
   "metadata": {},
   "outputs": [],
   "source": [
    "matches = pd.read_csv(\"../data/quark_all.csv\")\n",
    "data = pd.read_csv(\"../data/quark_cache_all.csv\")"
   ]
  },
  {
   "cell_type": "code",
   "execution_count": 43,
   "metadata": {},
   "outputs": [
    {
     "data": {
      "text/html": [
       "<div>\n",
       "<style scoped>\n",
       "    .dataframe tbody tr th:only-of-type {\n",
       "        vertical-align: middle;\n",
       "    }\n",
       "\n",
       "    .dataframe tbody tr th {\n",
       "        vertical-align: top;\n",
       "    }\n",
       "\n",
       "    .dataframe thead th {\n",
       "        text-align: right;\n",
       "    }\n",
       "</style>\n",
       "<table border=\"1\" class=\"dataframe\">\n",
       "  <thead>\n",
       "    <tr style=\"text-align: right;\">\n",
       "      <th></th>\n",
       "      <th>chi_squared</th>\n",
       "      <th>yu11</th>\n",
       "      <th>yu12</th>\n",
       "      <th>yu13</th>\n",
       "      <th>yu21</th>\n",
       "      <th>yu22</th>\n",
       "      <th>yu23</th>\n",
       "      <th>yu31</th>\n",
       "      <th>yu32</th>\n",
       "      <th>yu33</th>\n",
       "      <th>...</th>\n",
       "      <th>pd33</th>\n",
       "      <th>cL1</th>\n",
       "      <th>cL2</th>\n",
       "      <th>cL3</th>\n",
       "      <th>cu1_m</th>\n",
       "      <th>cu2_m</th>\n",
       "      <th>cu3_m</th>\n",
       "      <th>cd1_m</th>\n",
       "      <th>cd2_m</th>\n",
       "      <th>cd3_m</th>\n",
       "    </tr>\n",
       "  </thead>\n",
       "  <tbody>\n",
       "    <tr>\n",
       "      <th>0</th>\n",
       "      <td>0.000068</td>\n",
       "      <td>2.335486</td>\n",
       "      <td>0.045386</td>\n",
       "      <td>2.097453</td>\n",
       "      <td>1.274928</td>\n",
       "      <td>0.988658</td>\n",
       "      <td>0.256091</td>\n",
       "      <td>0.723148</td>\n",
       "      <td>3.026105</td>\n",
       "      <td>3.999979</td>\n",
       "      <td>...</td>\n",
       "      <td>0.730134</td>\n",
       "      <td>0.492365</td>\n",
       "      <td>0.298917</td>\n",
       "      <td>0.278973</td>\n",
       "      <td>2.316154</td>\n",
       "      <td>0.412638</td>\n",
       "      <td>0.190588</td>\n",
       "      <td>0.413250</td>\n",
       "      <td>0.179704</td>\n",
       "      <td>0.363717</td>\n",
       "    </tr>\n",
       "    <tr>\n",
       "      <th>1</th>\n",
       "      <td>0.000053</td>\n",
       "      <td>0.650532</td>\n",
       "      <td>0.771297</td>\n",
       "      <td>0.166697</td>\n",
       "      <td>0.033569</td>\n",
       "      <td>3.174660</td>\n",
       "      <td>2.098188</td>\n",
       "      <td>2.721968</td>\n",
       "      <td>3.200510</td>\n",
       "      <td>0.181933</td>\n",
       "      <td>...</td>\n",
       "      <td>-0.793446</td>\n",
       "      <td>1.258651</td>\n",
       "      <td>0.237826</td>\n",
       "      <td>0.292544</td>\n",
       "      <td>1.213055</td>\n",
       "      <td>0.446341</td>\n",
       "      <td>0.391189</td>\n",
       "      <td>0.143133</td>\n",
       "      <td>0.264924</td>\n",
       "      <td>0.391884</td>\n",
       "    </tr>\n",
       "    <tr>\n",
       "      <th>2</th>\n",
       "      <td>0.000030</td>\n",
       "      <td>3.295352</td>\n",
       "      <td>1.123228</td>\n",
       "      <td>0.631451</td>\n",
       "      <td>2.783294</td>\n",
       "      <td>2.675879</td>\n",
       "      <td>3.983073</td>\n",
       "      <td>3.978991</td>\n",
       "      <td>1.221952</td>\n",
       "      <td>1.636007</td>\n",
       "      <td>...</td>\n",
       "      <td>1.466024</td>\n",
       "      <td>0.323450</td>\n",
       "      <td>0.491271</td>\n",
       "      <td>0.179594</td>\n",
       "      <td>0.158833</td>\n",
       "      <td>1.897171</td>\n",
       "      <td>0.437934</td>\n",
       "      <td>0.388838</td>\n",
       "      <td>0.388153</td>\n",
       "      <td>0.250592</td>\n",
       "    </tr>\n",
       "    <tr>\n",
       "      <th>3</th>\n",
       "      <td>0.000053</td>\n",
       "      <td>2.605752</td>\n",
       "      <td>2.883614</td>\n",
       "      <td>2.541573</td>\n",
       "      <td>1.318885</td>\n",
       "      <td>0.010129</td>\n",
       "      <td>1.751382</td>\n",
       "      <td>2.644450</td>\n",
       "      <td>3.870758</td>\n",
       "      <td>3.069792</td>\n",
       "      <td>...</td>\n",
       "      <td>-0.325465</td>\n",
       "      <td>0.230458</td>\n",
       "      <td>0.061783</td>\n",
       "      <td>0.473398</td>\n",
       "      <td>0.630069</td>\n",
       "      <td>0.591764</td>\n",
       "      <td>1.799269</td>\n",
       "      <td>0.345994</td>\n",
       "      <td>0.424211</td>\n",
       "      <td>0.444913</td>\n",
       "    </tr>\n",
       "    <tr>\n",
       "      <th>4</th>\n",
       "      <td>0.000072</td>\n",
       "      <td>1.764345</td>\n",
       "      <td>3.529757</td>\n",
       "      <td>0.795832</td>\n",
       "      <td>1.577185</td>\n",
       "      <td>1.593288</td>\n",
       "      <td>2.093665</td>\n",
       "      <td>2.757984</td>\n",
       "      <td>1.403704</td>\n",
       "      <td>1.674360</td>\n",
       "      <td>...</td>\n",
       "      <td>-1.263085</td>\n",
       "      <td>0.559286</td>\n",
       "      <td>0.131814</td>\n",
       "      <td>0.226806</td>\n",
       "      <td>1.609497</td>\n",
       "      <td>0.390962</td>\n",
       "      <td>0.485967</td>\n",
       "      <td>0.280863</td>\n",
       "      <td>0.438038</td>\n",
       "      <td>0.395562</td>\n",
       "    </tr>\n",
       "    <tr>\n",
       "      <th>...</th>\n",
       "      <td>...</td>\n",
       "      <td>...</td>\n",
       "      <td>...</td>\n",
       "      <td>...</td>\n",
       "      <td>...</td>\n",
       "      <td>...</td>\n",
       "      <td>...</td>\n",
       "      <td>...</td>\n",
       "      <td>...</td>\n",
       "      <td>...</td>\n",
       "      <td>...</td>\n",
       "      <td>...</td>\n",
       "      <td>...</td>\n",
       "      <td>...</td>\n",
       "      <td>...</td>\n",
       "      <td>...</td>\n",
       "      <td>...</td>\n",
       "      <td>...</td>\n",
       "      <td>...</td>\n",
       "      <td>...</td>\n",
       "      <td>...</td>\n",
       "    </tr>\n",
       "    <tr>\n",
       "      <th>545</th>\n",
       "      <td>2.019034</td>\n",
       "      <td>1.648627</td>\n",
       "      <td>2.130411</td>\n",
       "      <td>3.216463</td>\n",
       "      <td>3.366876</td>\n",
       "      <td>2.843458</td>\n",
       "      <td>0.030130</td>\n",
       "      <td>2.945692</td>\n",
       "      <td>0.801124</td>\n",
       "      <td>3.795321</td>\n",
       "      <td>...</td>\n",
       "      <td>0.292302</td>\n",
       "      <td>0.411772</td>\n",
       "      <td>0.121413</td>\n",
       "      <td>0.197493</td>\n",
       "      <td>0.422449</td>\n",
       "      <td>14.714185</td>\n",
       "      <td>0.528454</td>\n",
       "      <td>0.491247</td>\n",
       "      <td>0.288003</td>\n",
       "      <td>0.468423</td>\n",
       "    </tr>\n",
       "    <tr>\n",
       "      <th>546</th>\n",
       "      <td>0.000125</td>\n",
       "      <td>0.253042</td>\n",
       "      <td>3.417357</td>\n",
       "      <td>1.614246</td>\n",
       "      <td>0.996328</td>\n",
       "      <td>3.342516</td>\n",
       "      <td>1.163370</td>\n",
       "      <td>1.121530</td>\n",
       "      <td>3.257577</td>\n",
       "      <td>1.134839</td>\n",
       "      <td>...</td>\n",
       "      <td>-2.875954</td>\n",
       "      <td>0.432925</td>\n",
       "      <td>0.087287</td>\n",
       "      <td>0.192799</td>\n",
       "      <td>1.210171</td>\n",
       "      <td>0.354820</td>\n",
       "      <td>14.922641</td>\n",
       "      <td>0.449207</td>\n",
       "      <td>0.435230</td>\n",
       "      <td>0.402279</td>\n",
       "    </tr>\n",
       "    <tr>\n",
       "      <th>547</th>\n",
       "      <td>0.000128</td>\n",
       "      <td>1.439186</td>\n",
       "      <td>0.076671</td>\n",
       "      <td>3.702410</td>\n",
       "      <td>2.381590</td>\n",
       "      <td>0.468628</td>\n",
       "      <td>3.792968</td>\n",
       "      <td>2.227953</td>\n",
       "      <td>0.462022</td>\n",
       "      <td>3.999831</td>\n",
       "      <td>...</td>\n",
       "      <td>2.088280</td>\n",
       "      <td>0.185626</td>\n",
       "      <td>0.048360</td>\n",
       "      <td>0.426384</td>\n",
       "      <td>9.215451</td>\n",
       "      <td>5.723009</td>\n",
       "      <td>0.442268</td>\n",
       "      <td>0.407967</td>\n",
       "      <td>0.432081</td>\n",
       "      <td>0.442605</td>\n",
       "    </tr>\n",
       "    <tr>\n",
       "      <th>548</th>\n",
       "      <td>0.000161</td>\n",
       "      <td>3.999778</td>\n",
       "      <td>0.909994</td>\n",
       "      <td>3.947600</td>\n",
       "      <td>2.893091</td>\n",
       "      <td>3.634857</td>\n",
       "      <td>1.671509</td>\n",
       "      <td>0.092159</td>\n",
       "      <td>1.716029</td>\n",
       "      <td>0.775203</td>\n",
       "      <td>...</td>\n",
       "      <td>-1.287197</td>\n",
       "      <td>0.373513</td>\n",
       "      <td>-0.063643</td>\n",
       "      <td>0.145833</td>\n",
       "      <td>0.351667</td>\n",
       "      <td>1.453391</td>\n",
       "      <td>12.806057</td>\n",
       "      <td>0.528920</td>\n",
       "      <td>0.800356</td>\n",
       "      <td>2.544196</td>\n",
       "    </tr>\n",
       "    <tr>\n",
       "      <th>549</th>\n",
       "      <td>0.000038</td>\n",
       "      <td>1.803401</td>\n",
       "      <td>2.493038</td>\n",
       "      <td>0.022638</td>\n",
       "      <td>1.827557</td>\n",
       "      <td>2.423941</td>\n",
       "      <td>1.382325</td>\n",
       "      <td>2.072009</td>\n",
       "      <td>3.118882</td>\n",
       "      <td>2.543648</td>\n",
       "      <td>...</td>\n",
       "      <td>-1.350053</td>\n",
       "      <td>0.044159</td>\n",
       "      <td>0.182287</td>\n",
       "      <td>0.446182</td>\n",
       "      <td>0.305596</td>\n",
       "      <td>3.039357</td>\n",
       "      <td>0.874282</td>\n",
       "      <td>0.492816</td>\n",
       "      <td>0.536958</td>\n",
       "      <td>0.364849</td>\n",
       "    </tr>\n",
       "  </tbody>\n",
       "</table>\n",
       "<p>550 rows × 46 columns</p>\n",
       "</div>"
      ],
      "text/plain": [
       "     chi_squared      yu11      yu12      yu13      yu21      yu22      yu23  \\\n",
       "0       0.000068  2.335486  0.045386  2.097453  1.274928  0.988658  0.256091   \n",
       "1       0.000053  0.650532  0.771297  0.166697  0.033569  3.174660  2.098188   \n",
       "2       0.000030  3.295352  1.123228  0.631451  2.783294  2.675879  3.983073   \n",
       "3       0.000053  2.605752  2.883614  2.541573  1.318885  0.010129  1.751382   \n",
       "4       0.000072  1.764345  3.529757  0.795832  1.577185  1.593288  2.093665   \n",
       "..           ...       ...       ...       ...       ...       ...       ...   \n",
       "545     2.019034  1.648627  2.130411  3.216463  3.366876  2.843458  0.030130   \n",
       "546     0.000125  0.253042  3.417357  1.614246  0.996328  3.342516  1.163370   \n",
       "547     0.000128  1.439186  0.076671  3.702410  2.381590  0.468628  3.792968   \n",
       "548     0.000161  3.999778  0.909994  3.947600  2.893091  3.634857  1.671509   \n",
       "549     0.000038  1.803401  2.493038  0.022638  1.827557  2.423941  1.382325   \n",
       "\n",
       "         yu31      yu32      yu33  ...      pd33       cL1       cL2  \\\n",
       "0    0.723148  3.026105  3.999979  ...  0.730134  0.492365  0.298917   \n",
       "1    2.721968  3.200510  0.181933  ... -0.793446  1.258651  0.237826   \n",
       "2    3.978991  1.221952  1.636007  ...  1.466024  0.323450  0.491271   \n",
       "3    2.644450  3.870758  3.069792  ... -0.325465  0.230458  0.061783   \n",
       "4    2.757984  1.403704  1.674360  ... -1.263085  0.559286  0.131814   \n",
       "..        ...       ...       ...  ...       ...       ...       ...   \n",
       "545  2.945692  0.801124  3.795321  ...  0.292302  0.411772  0.121413   \n",
       "546  1.121530  3.257577  1.134839  ... -2.875954  0.432925  0.087287   \n",
       "547  2.227953  0.462022  3.999831  ...  2.088280  0.185626  0.048360   \n",
       "548  0.092159  1.716029  0.775203  ... -1.287197  0.373513 -0.063643   \n",
       "549  2.072009  3.118882  2.543648  ... -1.350053  0.044159  0.182287   \n",
       "\n",
       "          cL3     cu1_m      cu2_m      cu3_m     cd1_m     cd2_m     cd3_m  \n",
       "0    0.278973  2.316154   0.412638   0.190588  0.413250  0.179704  0.363717  \n",
       "1    0.292544  1.213055   0.446341   0.391189  0.143133  0.264924  0.391884  \n",
       "2    0.179594  0.158833   1.897171   0.437934  0.388838  0.388153  0.250592  \n",
       "3    0.473398  0.630069   0.591764   1.799269  0.345994  0.424211  0.444913  \n",
       "4    0.226806  1.609497   0.390962   0.485967  0.280863  0.438038  0.395562  \n",
       "..        ...       ...        ...        ...       ...       ...       ...  \n",
       "545  0.197493  0.422449  14.714185   0.528454  0.491247  0.288003  0.468423  \n",
       "546  0.192799  1.210171   0.354820  14.922641  0.449207  0.435230  0.402279  \n",
       "547  0.426384  9.215451   5.723009   0.442268  0.407967  0.432081  0.442605  \n",
       "548  0.145833  0.351667   1.453391  12.806057  0.528920  0.800356  2.544196  \n",
       "549  0.446182  0.305596   3.039357   0.874282  0.492816  0.536958  0.364849  \n",
       "\n",
       "[550 rows x 46 columns]"
      ]
     },
     "execution_count": 43,
     "metadata": {},
     "output_type": "execute_result"
    }
   ],
   "source": [
    "matches"
   ]
  },
  {
   "cell_type": "code",
   "execution_count": 46,
   "metadata": {
    "scrolled": true
   },
   "outputs": [
    {
     "data": {
      "image/png": "[encoded data removed]",
      "text/plain": [
       "<Figure size 432x432 with 1 Axes>"
      ]
     },
     "metadata": {
      "needs_background": "light"
     },
     "output_type": "display_data"
    }
   ],
   "source": [
    "fig, ax = plt.subplots(figsize=(6, 6))\n",
    "\n",
    "plt.plot(matches.cL1, matches.cu1_m,'x')\n",
    "#plt.plot(matches.cL2, matches.cu2_m,'x')\n",
    "#plt.plot(matches.cL3, matches.cu3_m,'x')\n",
    "#plt.plot(matches.cL1, matches.cd1_m,'x')\n",
    "#plt.plot(matches.cL2, matches.cd2_m,'x')\n",
    "#plt.plot(matches.cL3, matches.cd3_m,'x')\n",
    "\n",
    "plt.xlim([-0.5, 3])\n",
    "plt.ylim([-0.5, 3])\n",
    "\n",
    "plt.show()"
   ]
  },
  {
   "cell_type": "code",
   "execution_count": 9,
   "metadata": {},
   "outputs": [
    {
     "name": "stdout",
     "output_type": "stream",
     "text": [
      "cu1_m 0.9578137504117098 1.2064469559081712\n",
      "cu2_m 1.047574287901066 1.1694103499268051\n",
      "cu3_m 0.8077024819093448 0.9087187635655989\n",
      "cd1_m 0.33945866228913213 0.10950939737130698\n",
      "cd2_m 0.33776911410040555 0.10046967693628261\n",
      "cd3_m 0.3505916521831089 0.12218453290092732\n",
      "cL1 0.3104866401644728 0.20393750962875978\n",
      "cL2 0.3510426092427675 0.21814292980378702\n",
      "cL3 0.40126029509139904 0.2290312391047657\n"
     ]
    }
   ],
   "source": [
    "labels = ['cu1_m', 'cu2_m', 'cu3_m', 'cd1_m', 'cd2_m', 'cd3_m', 'cL1', 'cL2', 'cL3']\n",
    "for label in labels:\n",
    "    print(label, np.average(matches[label]), np.std(matches[label]))"
   ]
  },
  {
   "cell_type": "code",
   "execution_count": 10,
   "metadata": {},
   "outputs": [
    {
     "name": "stdout",
     "output_type": "stream",
     "text": [
      "yu11 1.8312402983583178 1.217716226582097\n",
      "yu12 1.7793440638153875 1.1767181063543644\n",
      "yu13 1.8620975460258054 1.1699296043119072\n",
      "yu21 2.018624248373811 1.2505845268924969\n",
      "yu22 1.6482038703286053 1.1846166014947825\n",
      "yu33 1.9281122588626822 1.2672251934335628\n",
      "yu31 2.145434186355729 1.2622479910720774\n",
      "yu32 2.133035451892312 1.238602105225627\n",
      "yu33 1.9281122588626822 1.2672251934335628\n"
     ]
    }
   ],
   "source": [
    "labels = ['yu11', 'yu12', 'yu13', \n",
    "          'yu21', 'yu22', 'yu33', \n",
    "          'yu31', 'yu32', 'yu33']\n",
    "for label in labels:\n",
    "    print(label, np.average(matches[label]), np.std(matches[label]))"
   ]
  },
  {
   "cell_type": "code",
   "execution_count": 57,
   "metadata": {},
   "outputs": [
    {
     "name": "stdout",
     "output_type": "stream",
     "text": [
      "yd11 2.1034580706450576 1.3012735800352557\n",
      "yd12 2.109300002453972 1.2224886217135071\n",
      "yd13 2.096667610111861 1.2356024544843238\n",
      "yd21 2.095318496623501 1.243598631384283\n",
      "yd22 2.095431340631598 1.2421923498908025\n",
      "yd23 2.1619349514286537 1.2383791025938382\n",
      "yd31 1.9561667227284745 1.2029724045597363\n",
      "yd32 1.939795339680336 1.2366165559405178\n",
      "yd33 2.0040117933462382 1.2345692273796998\n"
     ]
    }
   ],
   "source": [
    "labels = ['yd11', 'yd12', 'yd13', \n",
    "          'yd21', 'yd22', 'yd23', \n",
    "          'yd31', 'yd32', 'yd33']\n",
    "for label in labels:\n",
    "    print(label, np.average(matches[label]), np.std(matches[label]))"
   ]
  },
  {
   "cell_type": "code",
   "execution_count": 65,
   "metadata": {
    "scrolled": true
   },
   "outputs": [
    {
     "data": {
      "image/png": "[encoded data removed]",
      "text/plain": [
       "<Figure size 432x288 with 1 Axes>"
      ]
     },
     "metadata": {
      "needs_background": "light"
     },
     "output_type": "display_data"
    }
   ],
   "source": [
    "dat = np.log(matches.cL3)\n",
    "plt.hist(dat, bins=11)  # arguments are passed to np.histogram\n",
    "plt.title(\"Histogram with 'auto' bins\")\n",
    "plt.show()"
   ]
  },
  {
   "cell_type": "markdown",
   "metadata": {},
   "source": [
    "Correlation Matrix"
   ]
  },
  {
   "cell_type": "code",
   "execution_count": 60,
   "metadata": {},
   "outputs": [
    {
     "data": {
      "text/plain": [
       "<matplotlib.axes._subplots.AxesSubplot at 0x7fdec00e1fa0>"
      ]
     },
     "execution_count": 60,
     "metadata": {},
     "output_type": "execute_result"
    },
    {
     "data": {
      "image/png": "[encoded data removed]",
      "text/plain": [
       "<Figure size 792x648 with 2 Axes>"
      ]
     },
     "metadata": {
      "needs_background": "light"
     },
     "output_type": "display_data"
    }
   ],
   "source": [
    "# Compute the correlation matrix\n",
    "corr = matches.loc[:, \n",
    "                   ['yu11', 'yu12', 'yu13', \n",
    "                    'yu21', 'yu22', 'yu23', \n",
    "                    'yu31', 'yu32', 'yu33',\n",
    "                    'yd11', 'yd12', 'yd13', \n",
    "                    'yd21', 'yd22', 'yd23', \n",
    "                    'yd31', 'yd32', 'yd33',\n",
    "                    'cu1_m', 'cu2_m', 'cu3_m', \n",
    "                    'cd1_m', 'cd2_m', 'cd3_m', \n",
    "                    'cL1', 'cL2', 'cL3']].corr()\n",
    "\n",
    "# Generate a mask for the upper triangle\n",
    "mask = np.triu(np.ones_like(corr, dtype=bool))\n",
    "\n",
    "# Set up the matplotlib figure\n",
    "f, ax = plt.subplots(figsize=(11, 9))\n",
    "\n",
    "# Generate a custom diverging colormap\n",
    "cmap = sns.diverging_palette(230, 20, as_cmap=True)\n",
    "\n",
    "# Draw the heatmap with the mask and correct aspect ratio\n",
    "sns.heatmap(corr, mask=mask, cmap=cmap, center=0,\n",
    "            square=True, linewidths=.5, cbar_kws={\"shrink\": .5})"
   ]
  },
  {
   "cell_type": "markdown",
   "metadata": {},
   "source": [
    "## Predicting outcome from initial starting point"
   ]
  },
  {
   "cell_type": "code",
   "execution_count": 2,
   "metadata": {},
   "outputs": [],
   "source": [
    "from sklearn.model_selection import train_test_split, KFold\n",
    "from sklearn.model_selection import GridSearchCV\n",
    "\n",
    "from sklearn.linear_model import LogisticRegression\n",
    "from sklearn.ensemble import GradientBoostingClassifier\n",
    "from sklearn.ensemble import AdaBoostClassifier\n",
    "\n",
    "from sklearn.metrics import confusion_matrix\n",
    "from sklearn.metrics import f1_score, roc_curve, auc"
   ]
  },
  {
   "cell_type": "code",
   "execution_count": 3,
   "metadata": {},
   "outputs": [],
   "source": [
    "# Imbalance techniques\n",
    "from imblearn.over_sampling import RandomOverSampler\n",
    "from imblearn.combine import SMOTETomek"
   ]
  },
  {
   "cell_type": "code",
   "execution_count": 15,
   "metadata": {},
   "outputs": [
    {
     "data": {
      "text/plain": [
       "10116241.007277772"
      ]
     },
     "execution_count": 15,
     "metadata": {},
     "output_type": "execute_result"
    }
   ],
   "source": [
    "np.average(data[data.outcome==0].chi_squared)"
   ]
  },
  {
   "cell_type": "code",
   "execution_count": 16,
   "metadata": {},
   "outputs": [
    {
     "data": {
      "text/plain": [
       "3314623.261095429"
      ]
     },
     "execution_count": 16,
     "metadata": {},
     "output_type": "execute_result"
    }
   ],
   "source": [
    "np.average(data[data.outcome==1].chi_squared)"
   ]
  },
  {
   "cell_type": "code",
   "execution_count": 17,
   "metadata": {},
   "outputs": [
    {
     "name": "stderr",
     "output_type": "stream",
     "text": [
      "/Users/Peggy/opt/anaconda3/lib/python3.8/site-packages/numpy/lib/function_base.py:393: RuntimeWarning: Mean of empty slice.\n",
      "  avg = a.mean(axis)\n",
      "/Users/Peggy/opt/anaconda3/lib/python3.8/site-packages/numpy/core/_methods.py:161: RuntimeWarning: invalid value encountered in double_scalars\n",
      "  ret = ret.dtype.type(ret / rcount)\n"
     ]
    },
    {
     "data": {
      "text/plain": [
       "nan"
      ]
     },
     "execution_count": 17,
     "metadata": {},
     "output_type": "execute_result"
    }
   ],
   "source": [
    "np.average(data[data.outcome==2].chi_squared)"
   ]
  },
  {
   "cell_type": "code",
   "execution_count": 18,
   "metadata": {
    "scrolled": false
   },
   "outputs": [
    {
     "data": {
      "image/png": "[encoded data removed]",
      "text/plain": [
       "<Figure size 432x288 with 1 Axes>"
      ]
     },
     "metadata": {
      "needs_background": "light"
     },
     "output_type": "display_data"
    }
   ],
   "source": [
    "plt.plot(np.log10(data[data.outcome!=1].chi_squared), 'o')\n",
    "plt.plot(np.log10(data[data.outcome==1].chi_squared), 'o')\n",
    "plt.show()"
   ]
  },
  {
   "cell_type": "markdown",
   "metadata": {},
   "source": [
    "### Processing data"
   ]
  },
  {
   "cell_type": "code",
   "execution_count": 28,
   "metadata": {},
   "outputs": [],
   "source": [
    "# group 0 and 2 together as 0\n",
    "X = data.loc[:, data.columns != 'outcome'].copy()\n",
    "Y = data['outcome'].copy()\n",
    "\n",
    "# relabel Y axis to binary\n",
    "Y[Y == 2] = 0\n",
    "# check\n",
    "# Y.unique()\n",
    "\n",
    "# Use log10 scale for X axis\n",
    "X.chi_squared = np.log10(X.chi_squared)"
   ]
  },
  {
   "cell_type": "markdown",
   "metadata": {},
   "source": [
    "Train test splitting (80-20)"
   ]
  },
  {
   "cell_type": "code",
   "execution_count": 29,
   "metadata": {},
   "outputs": [],
   "source": [
    "x_train, x_test, y_train, y_test = train_test_split(\n",
    "    X, Y, test_size=0.2, random_state=20)"
   ]
  },
  {
   "cell_type": "markdown",
   "metadata": {},
   "source": [
    "### Base line model: Logistic Regression"
   ]
  },
  {
   "cell_type": "code",
   "execution_count": 30,
   "metadata": {},
   "outputs": [
    {
     "data": {
      "text/plain": [
       "LogisticRegression(max_iter=1000)"
      ]
     },
     "execution_count": 30,
     "metadata": {},
     "output_type": "execute_result"
    }
   ],
   "source": [
    "lm = LogisticRegression(max_iter=1000)\n",
    "lm.fit(x_train, y_train)"
   ]
  },
  {
   "cell_type": "code",
   "execution_count": 31,
   "metadata": {},
   "outputs": [
    {
     "data": {
      "text/plain": [
       "0.9631944444444445"
      ]
     },
     "execution_count": 31,
     "metadata": {},
     "output_type": "execute_result"
    }
   ],
   "source": [
    "lm.score(x_train, y_train)"
   ]
  },
  {
   "cell_type": "code",
   "execution_count": 32,
   "metadata": {},
   "outputs": [
    {
     "data": {
      "text/plain": [
       "0.95"
      ]
     },
     "execution_count": 32,
     "metadata": {},
     "output_type": "execute_result"
    }
   ],
   "source": [
    "lm.score(x_test, y_test)"
   ]
  },
  {
   "cell_type": "code",
   "execution_count": 33,
   "metadata": {},
   "outputs": [],
   "source": [
    "y_test_pred = lm.predict(x_test)"
   ]
  },
  {
   "cell_type": "code",
   "execution_count": 34,
   "metadata": {},
   "outputs": [],
   "source": [
    "cm = confusion_matrix(y_test, y_test_pred)"
   ]
  },
  {
   "cell_type": "code",
   "execution_count": 35,
   "metadata": {
    "scrolled": true
   },
   "outputs": [
    {
     "data": {
      "text/plain": [
       "array([[684,   0],\n",
       "       [ 36,   0]])"
      ]
     },
     "execution_count": 35,
     "metadata": {},
     "output_type": "execute_result"
    }
   ],
   "source": [
    "cm"
   ]
  },
  {
   "cell_type": "code",
   "execution_count": 36,
   "metadata": {},
   "outputs": [
    {
     "name": "stdout",
     "output_type": "stream",
     "text": [
      "684\n",
      "36\n"
     ]
    }
   ],
   "source": [
    "print(np.sum(y_test == 0))\n",
    "print(np.sum(y_test == 1))"
   ]
  },
  {
   "cell_type": "markdown",
   "metadata": {},
   "source": [
    "The model is imbalanced, thus not useful. "
   ]
  },
  {
   "cell_type": "code",
   "execution_count": 37,
   "metadata": {
    "scrolled": true
   },
   "outputs": [
    {
     "data": {
      "text/plain": [
       "0.0"
      ]
     },
     "execution_count": 37,
     "metadata": {},
     "output_type": "execute_result"
    }
   ],
   "source": [
    "f1_score(y_test, y_test_pred)"
   ]
  },
  {
   "cell_type": "markdown",
   "metadata": {},
   "source": [
    "### Logistic Regression with SMOTE"
   ]
  },
  {
   "cell_type": "code",
   "execution_count": 38,
   "metadata": {},
   "outputs": [],
   "source": [
    "smk = SMOTETomek()\n",
    "x_smote, y_smote = smk.fit_resample(x_train, y_train)"
   ]
  },
  {
   "cell_type": "code",
   "execution_count": 39,
   "metadata": {},
   "outputs": [
    {
     "data": {
      "text/plain": [
       "LogisticRegression(max_iter=1000)"
      ]
     },
     "execution_count": 39,
     "metadata": {},
     "output_type": "execute_result"
    }
   ],
   "source": [
    "lm2 = LogisticRegression(max_iter=1000)\n",
    "lm2.fit(x_smote, y_smote)"
   ]
  },
  {
   "cell_type": "code",
   "execution_count": 40,
   "metadata": {},
   "outputs": [
    {
     "name": "stdout",
     "output_type": "stream",
     "text": [
      "0.5018037518037518\n",
      "0.95\n"
     ]
    }
   ],
   "source": [
    "print(lm.score(x_smote, y_smote))\n",
    "print(lm.score(x_test, y_test))"
   ]
  },
  {
   "cell_type": "code",
   "execution_count": 41,
   "metadata": {},
   "outputs": [
    {
     "name": "stdout",
     "output_type": "stream",
     "text": [
      "0.1328125\n",
      "[[481 203]\n",
      " [ 19  17]]\n"
     ]
    }
   ],
   "source": [
    "y_test_pred = lm2.predict(x_test)\n",
    "cm = confusion_matrix(y_test, y_test_pred)\n",
    "\n",
    "print(f1_score(y_test, y_test_pred))\n",
    "print(cm)"
   ]
  },
  {
   "cell_type": "markdown",
   "metadata": {},
   "source": [
    "### Gradient Boosting with SMOTE"
   ]
  },
  {
   "cell_type": "code",
   "execution_count": 52,
   "metadata": {},
   "outputs": [
    {
     "name": "stdout",
     "output_type": "stream",
     "text": [
      "0.8414502164502164\n",
      "0.7833333333333333\n"
     ]
    }
   ],
   "source": [
    "clf = GradientBoostingClassifier(n_estimators=300, learning_rate=0.01,\n",
    "                                 max_depth=2, random_state=1).fit(x_smote, y_smote)\n",
    "#ada_clf = AdaBoostClassifier(n_estimators=300, learning_rate=1.0,\n",
    "#                         random_state=0).fit(x_smote, y_smote)\n",
    "print(clf.score(x_smote, y_smote))\n",
    "print(clf.score(x_test, y_test))"
   ]
  },
  {
   "cell_type": "code",
   "execution_count": 53,
   "metadata": {},
   "outputs": [
    {
     "name": "stdout",
     "output_type": "stream",
     "text": [
      "0.8444523093257829\n",
      "0.8414502164502164\n",
      "[[2279  493]\n",
      " [ 386 2386]]\n"
     ]
    }
   ],
   "source": [
    "y_train_pred = clf.predict(x_smote)\n",
    "cm_train = confusion_matrix(y_smote, y_train_pred)\n",
    "fpr, tpr, thresholds = roc_curve(y_smote, y_train_pred)\n",
    "\n",
    "print(f1_score(y_smote, y_train_pred))\n",
    "print(auc(fpr, tpr))\n",
    "print(cm_train)"
   ]
  },
  {
   "cell_type": "code",
   "execution_count": 54,
   "metadata": {},
   "outputs": [
    {
     "name": "stdout",
     "output_type": "stream",
     "text": [
      "0.15217391304347827\n",
      "0.5964912280701754\n",
      "[[550 134]\n",
      " [ 22  14]]\n"
     ]
    }
   ],
   "source": [
    "y_test_pred = clf.predict(x_test)\n",
    "cm = confusion_matrix(y_test, y_test_pred)\n",
    "fpr, tpr, thresholds = roc_curve(y_test, y_test_pred)\n",
    "\n",
    "print(f1_score(y_test, y_test_pred))\n",
    "print(auc(fpr, tpr))\n",
    "print(cm)"
   ]
  },
  {
   "cell_type": "code",
   "execution_count": 58,
   "metadata": {},
   "outputs": [
    {
     "data": {
      "text/plain": [
       "[<matplotlib.lines.Line2D at 0x7f8086d90160>]"
      ]
     },
     "execution_count": 58,
     "metadata": {},
     "output_type": "execute_result"
    },
    {
     "data": {
      "image/png": "[encoded data removed]",
      "text/plain": [
       "<Figure size 432x288 with 1 Axes>"
      ]
     },
     "metadata": {
      "needs_background": "light"
     },
     "output_type": "display_data"
    }
   ],
   "source": [
    "plt.plot(clf.feature_importances_, 'x')"
   ]
  },
  {
   "cell_type": "code",
   "execution_count": 56,
   "metadata": {},
   "outputs": [],
   "source": [
    "import joblib"
   ]
  },
  {
   "cell_type": "code",
   "execution_count": 61,
   "metadata": {},
   "outputs": [
    {
     "data": {
      "text/plain": [
       "['../output/test_model.pkl']"
      ]
     },
     "execution_count": 61,
     "metadata": {},
     "output_type": "execute_result"
    }
   ],
   "source": [
    "joblib.dump(clf, '../output/test_model.pkl', compress=9)"
   ]
  },
  {
   "cell_type": "markdown",
   "metadata": {},
   "source": [
    "### Logistic Regression with Oversampling"
   ]
  },
  {
   "cell_type": "code",
   "execution_count": 62,
   "metadata": {},
   "outputs": [],
   "source": [
    "model_clone = joblib.load('../output/test_model.pkl')"
   ]
  },
  {
   "cell_type": "code",
   "execution_count": 63,
   "metadata": {},
   "outputs": [
    {
     "data": {
      "text/plain": [
       "[<matplotlib.lines.Line2D at 0x7f8087177cd0>]"
      ]
     },
     "execution_count": 63,
     "metadata": {},
     "output_type": "execute_result"
    },
    {
     "data": {
      "image/png": "[encoded data removed]",
      "text/plain": [
       "<Figure size 432x288 with 1 Axes>"
      ]
     },
     "metadata": {
      "needs_background": "light"
     },
     "output_type": "display_data"
    }
   ],
   "source": [
    "plt.plot(model_clone.feature_importances_, 'x')"
   ]
  },
  {
   "cell_type": "code",
   "execution_count": null,
   "metadata": {},
   "outputs": [],
   "source": []
  }
 ],
 "metadata": {
  "kernelspec": {
   "display_name": "Python 3",
   "language": "python",
   "name": "python3"
  },
  "language_info": {
   "codemirror_mode": {
    "name": "ipython",
    "version": 3
   },
   "file_extension": ".py",
   "mimetype": "text/x-python",
   "name": "python",
   "nbconvert_exporter": "python",
   "pygments_lexer": "ipython3",
   "version": "3.8.3"
  }
 },
 "nbformat": 4,
 "nbformat_minor": 4
}
