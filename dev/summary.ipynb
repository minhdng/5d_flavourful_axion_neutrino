{
 "cells": [
  {
   "cell_type": "code",
   "execution_count": 8,
   "metadata": {},
   "outputs": [],
   "source": [
    "import numpy as np\n",
    "import pandas as pd\n",
    "import matplotlib.pyplot as plt"
   ]
  },
  {
   "cell_type": "code",
   "execution_count": 9,
   "metadata": {},
   "outputs": [],
   "source": [
    "from sklearn.model_selection import train_test_split, KFold\n",
    "from sklearn.model_selection import GridSearchCV\n",
    "\n",
    "from sklearn.linear_model import LogisticRegression\n",
    "from sklearn.ensemble import GradientBoostingClassifier\n",
    "from sklearn.ensemble import AdaBoostClassifier\n",
    "\n",
    "from sklearn.metrics import confusion_matrix\n",
    "from sklearn.metrics import f1_score, roc_curve, auc"
   ]
  },
  {
   "cell_type": "code",
   "execution_count": 10,
   "metadata": {},
   "outputs": [],
   "source": [
    "# Imbalance techniques\n",
    "from imblearn.over_sampling import RandomOverSampler\n",
    "from imblearn.combine import SMOTETomek"
   ]
  },
  {
   "cell_type": "code",
   "execution_count": 11,
   "metadata": {},
   "outputs": [],
   "source": [
    "matches = pd.read_csv(\"../data/quark_all.csv\")\n",
    "data = pd.read_csv(\"../data/quark_cache_all.csv\")"
   ]
  },
  {
   "cell_type": "code",
   "execution_count": 67,
   "metadata": {},
   "outputs": [
    {
     "data": {
      "text/html": [
       "<div>\n",
       "<style scoped>\n",
       "    .dataframe tbody tr th:only-of-type {\n",
       "        vertical-align: middle;\n",
       "    }\n",
       "\n",
       "    .dataframe tbody tr th {\n",
       "        vertical-align: top;\n",
       "    }\n",
       "\n",
       "    .dataframe thead th {\n",
       "        text-align: right;\n",
       "    }\n",
       "</style>\n",
       "<table border=\"1\" class=\"dataframe\">\n",
       "  <thead>\n",
       "    <tr style=\"text-align: right;\">\n",
       "      <th></th>\n",
       "      <th>chi_squared</th>\n",
       "      <th>yu11</th>\n",
       "      <th>yu12</th>\n",
       "      <th>yu13</th>\n",
       "      <th>yu21</th>\n",
       "      <th>yu22</th>\n",
       "      <th>yu23</th>\n",
       "      <th>yu31</th>\n",
       "      <th>yu32</th>\n",
       "      <th>yu33</th>\n",
       "      <th>...</th>\n",
       "      <th>pd33</th>\n",
       "      <th>cL1</th>\n",
       "      <th>cL2</th>\n",
       "      <th>cL3</th>\n",
       "      <th>cu1</th>\n",
       "      <th>cu2</th>\n",
       "      <th>cu3</th>\n",
       "      <th>cd1</th>\n",
       "      <th>cd2</th>\n",
       "      <th>cd3</th>\n",
       "    </tr>\n",
       "  </thead>\n",
       "  <tbody>\n",
       "    <tr>\n",
       "      <th>0</th>\n",
       "      <td>0.159273</td>\n",
       "      <td>0.059669</td>\n",
       "      <td>0.825600</td>\n",
       "      <td>0.238537</td>\n",
       "      <td>0.023539</td>\n",
       "      <td>0.410516</td>\n",
       "      <td>0.120676</td>\n",
       "      <td>1.294718</td>\n",
       "      <td>2.300957</td>\n",
       "      <td>3.989085</td>\n",
       "      <td>...</td>\n",
       "      <td>1.336079</td>\n",
       "      <td>0.349534</td>\n",
       "      <td>0.778234</td>\n",
       "      <td>0.691859</td>\n",
       "      <td>0.833658</td>\n",
       "      <td>0.371131</td>\n",
       "      <td>0.162815</td>\n",
       "      <td>0.136267</td>\n",
       "      <td>0.994726</td>\n",
       "      <td>0.264156</td>\n",
       "    </tr>\n",
       "    <tr>\n",
       "      <th>1</th>\n",
       "      <td>13.116104</td>\n",
       "      <td>0.110574</td>\n",
       "      <td>0.197002</td>\n",
       "      <td>0.170535</td>\n",
       "      <td>0.207216</td>\n",
       "      <td>0.156741</td>\n",
       "      <td>0.059796</td>\n",
       "      <td>2.390812</td>\n",
       "      <td>3.984866</td>\n",
       "      <td>3.990957</td>\n",
       "      <td>...</td>\n",
       "      <td>1.097295</td>\n",
       "      <td>0.671814</td>\n",
       "      <td>0.646745</td>\n",
       "      <td>0.260429</td>\n",
       "      <td>0.916768</td>\n",
       "      <td>0.633520</td>\n",
       "      <td>0.122303</td>\n",
       "      <td>0.418708</td>\n",
       "      <td>0.167354</td>\n",
       "      <td>0.941287</td>\n",
       "    </tr>\n",
       "    <tr>\n",
       "      <th>2</th>\n",
       "      <td>8.124019</td>\n",
       "      <td>0.108542</td>\n",
       "      <td>3.955949</td>\n",
       "      <td>0.013523</td>\n",
       "      <td>0.239028</td>\n",
       "      <td>0.055106</td>\n",
       "      <td>0.443563</td>\n",
       "      <td>0.642967</td>\n",
       "      <td>3.855110</td>\n",
       "      <td>1.030911</td>\n",
       "      <td>...</td>\n",
       "      <td>2.449808</td>\n",
       "      <td>0.895804</td>\n",
       "      <td>0.337722</td>\n",
       "      <td>0.815777</td>\n",
       "      <td>0.380017</td>\n",
       "      <td>0.746301</td>\n",
       "      <td>0.656065</td>\n",
       "      <td>0.663578</td>\n",
       "      <td>0.422784</td>\n",
       "      <td>0.881735</td>\n",
       "    </tr>\n",
       "    <tr>\n",
       "      <th>3</th>\n",
       "      <td>0.000019</td>\n",
       "      <td>0.688530</td>\n",
       "      <td>3.795684</td>\n",
       "      <td>3.434940</td>\n",
       "      <td>0.782780</td>\n",
       "      <td>3.994523</td>\n",
       "      <td>2.411090</td>\n",
       "      <td>0.039605</td>\n",
       "      <td>3.590873</td>\n",
       "      <td>2.981027</td>\n",
       "      <td>...</td>\n",
       "      <td>3.141259</td>\n",
       "      <td>0.717379</td>\n",
       "      <td>0.835496</td>\n",
       "      <td>0.392754</td>\n",
       "      <td>0.353152</td>\n",
       "      <td>0.347943</td>\n",
       "      <td>0.495145</td>\n",
       "      <td>0.151066</td>\n",
       "      <td>0.608806</td>\n",
       "      <td>0.139240</td>\n",
       "    </tr>\n",
       "    <tr>\n",
       "      <th>4</th>\n",
       "      <td>0.021500</td>\n",
       "      <td>0.047419</td>\n",
       "      <td>0.073879</td>\n",
       "      <td>0.090357</td>\n",
       "      <td>0.110573</td>\n",
       "      <td>0.128794</td>\n",
       "      <td>0.365096</td>\n",
       "      <td>0.130150</td>\n",
       "      <td>0.148501</td>\n",
       "      <td>0.483194</td>\n",
       "      <td>...</td>\n",
       "      <td>-3.073112</td>\n",
       "      <td>0.841497</td>\n",
       "      <td>0.759425</td>\n",
       "      <td>0.678032</td>\n",
       "      <td>0.129718</td>\n",
       "      <td>0.383561</td>\n",
       "      <td>0.247787</td>\n",
       "      <td>0.607342</td>\n",
       "      <td>0.329184</td>\n",
       "      <td>0.957106</td>\n",
       "    </tr>\n",
       "    <tr>\n",
       "      <th>...</th>\n",
       "      <td>...</td>\n",
       "      <td>...</td>\n",
       "      <td>...</td>\n",
       "      <td>...</td>\n",
       "      <td>...</td>\n",
       "      <td>...</td>\n",
       "      <td>...</td>\n",
       "      <td>...</td>\n",
       "      <td>...</td>\n",
       "      <td>...</td>\n",
       "      <td>...</td>\n",
       "      <td>...</td>\n",
       "      <td>...</td>\n",
       "      <td>...</td>\n",
       "      <td>...</td>\n",
       "      <td>...</td>\n",
       "      <td>...</td>\n",
       "      <td>...</td>\n",
       "      <td>...</td>\n",
       "      <td>...</td>\n",
       "      <td>...</td>\n",
       "    </tr>\n",
       "    <tr>\n",
       "      <th>139</th>\n",
       "      <td>0.000027</td>\n",
       "      <td>1.720771</td>\n",
       "      <td>3.737914</td>\n",
       "      <td>3.751154</td>\n",
       "      <td>0.897806</td>\n",
       "      <td>1.405753</td>\n",
       "      <td>1.436778</td>\n",
       "      <td>2.099209</td>\n",
       "      <td>3.332314</td>\n",
       "      <td>3.349979</td>\n",
       "      <td>...</td>\n",
       "      <td>-0.811381</td>\n",
       "      <td>0.868531</td>\n",
       "      <td>0.675951</td>\n",
       "      <td>0.619911</td>\n",
       "      <td>0.527944</td>\n",
       "      <td>0.600086</td>\n",
       "      <td>0.355411</td>\n",
       "      <td>0.877646</td>\n",
       "      <td>0.743206</td>\n",
       "      <td>0.104439</td>\n",
       "    </tr>\n",
       "    <tr>\n",
       "      <th>140</th>\n",
       "      <td>1.006032</td>\n",
       "      <td>3.999995</td>\n",
       "      <td>0.418472</td>\n",
       "      <td>2.286783</td>\n",
       "      <td>0.626283</td>\n",
       "      <td>0.090195</td>\n",
       "      <td>1.270550</td>\n",
       "      <td>0.818321</td>\n",
       "      <td>0.026200</td>\n",
       "      <td>0.847482</td>\n",
       "      <td>...</td>\n",
       "      <td>2.525849</td>\n",
       "      <td>0.478330</td>\n",
       "      <td>0.542727</td>\n",
       "      <td>0.325084</td>\n",
       "      <td>0.249898</td>\n",
       "      <td>0.728256</td>\n",
       "      <td>0.695810</td>\n",
       "      <td>0.883532</td>\n",
       "      <td>0.980817</td>\n",
       "      <td>0.106780</td>\n",
       "    </tr>\n",
       "    <tr>\n",
       "      <th>141</th>\n",
       "      <td>14.591194</td>\n",
       "      <td>0.021448</td>\n",
       "      <td>0.109121</td>\n",
       "      <td>3.918542</td>\n",
       "      <td>0.618363</td>\n",
       "      <td>3.335628</td>\n",
       "      <td>0.679737</td>\n",
       "      <td>0.837733</td>\n",
       "      <td>1.953138</td>\n",
       "      <td>0.043611</td>\n",
       "      <td>...</td>\n",
       "      <td>-2.053205</td>\n",
       "      <td>0.901911</td>\n",
       "      <td>0.850622</td>\n",
       "      <td>0.207919</td>\n",
       "      <td>0.829481</td>\n",
       "      <td>0.527648</td>\n",
       "      <td>0.278083</td>\n",
       "      <td>0.887534</td>\n",
       "      <td>0.888155</td>\n",
       "      <td>0.318002</td>\n",
       "    </tr>\n",
       "    <tr>\n",
       "      <th>142</th>\n",
       "      <td>0.000326</td>\n",
       "      <td>2.409569</td>\n",
       "      <td>3.440356</td>\n",
       "      <td>0.848148</td>\n",
       "      <td>0.136589</td>\n",
       "      <td>0.024023</td>\n",
       "      <td>0.041415</td>\n",
       "      <td>0.233197</td>\n",
       "      <td>0.106512</td>\n",
       "      <td>0.042905</td>\n",
       "      <td>...</td>\n",
       "      <td>-0.905600</td>\n",
       "      <td>0.758171</td>\n",
       "      <td>0.800563</td>\n",
       "      <td>0.354571</td>\n",
       "      <td>0.302464</td>\n",
       "      <td>0.302006</td>\n",
       "      <td>0.437488</td>\n",
       "      <td>0.116389</td>\n",
       "      <td>0.888387</td>\n",
       "      <td>0.887755</td>\n",
       "    </tr>\n",
       "    <tr>\n",
       "      <th>143</th>\n",
       "      <td>2.918796</td>\n",
       "      <td>0.394789</td>\n",
       "      <td>0.091323</td>\n",
       "      <td>0.854759</td>\n",
       "      <td>0.291499</td>\n",
       "      <td>0.901050</td>\n",
       "      <td>0.178262</td>\n",
       "      <td>3.147070</td>\n",
       "      <td>3.911722</td>\n",
       "      <td>2.269961</td>\n",
       "      <td>...</td>\n",
       "      <td>2.891129</td>\n",
       "      <td>0.129892</td>\n",
       "      <td>0.177300</td>\n",
       "      <td>0.801934</td>\n",
       "      <td>0.111462</td>\n",
       "      <td>0.525176</td>\n",
       "      <td>0.702150</td>\n",
       "      <td>0.560529</td>\n",
       "      <td>0.347667</td>\n",
       "      <td>0.370113</td>\n",
       "    </tr>\n",
       "  </tbody>\n",
       "</table>\n",
       "<p>144 rows × 46 columns</p>\n",
       "</div>"
      ],
      "text/plain": [
       "     chi_squared      yu11      yu12      yu13      yu21      yu22      yu23  \\\n",
       "0       0.159273  0.059669  0.825600  0.238537  0.023539  0.410516  0.120676   \n",
       "1      13.116104  0.110574  0.197002  0.170535  0.207216  0.156741  0.059796   \n",
       "2       8.124019  0.108542  3.955949  0.013523  0.239028  0.055106  0.443563   \n",
       "3       0.000019  0.688530  3.795684  3.434940  0.782780  3.994523  2.411090   \n",
       "4       0.021500  0.047419  0.073879  0.090357  0.110573  0.128794  0.365096   \n",
       "..           ...       ...       ...       ...       ...       ...       ...   \n",
       "139     0.000027  1.720771  3.737914  3.751154  0.897806  1.405753  1.436778   \n",
       "140     1.006032  3.999995  0.418472  2.286783  0.626283  0.090195  1.270550   \n",
       "141    14.591194  0.021448  0.109121  3.918542  0.618363  3.335628  0.679737   \n",
       "142     0.000326  2.409569  3.440356  0.848148  0.136589  0.024023  0.041415   \n",
       "143     2.918796  0.394789  0.091323  0.854759  0.291499  0.901050  0.178262   \n",
       "\n",
       "         yu31      yu32      yu33  ...      pd33       cL1       cL2  \\\n",
       "0    1.294718  2.300957  3.989085  ...  1.336079  0.349534  0.778234   \n",
       "1    2.390812  3.984866  3.990957  ...  1.097295  0.671814  0.646745   \n",
       "2    0.642967  3.855110  1.030911  ...  2.449808  0.895804  0.337722   \n",
       "3    0.039605  3.590873  2.981027  ...  3.141259  0.717379  0.835496   \n",
       "4    0.130150  0.148501  0.483194  ... -3.073112  0.841497  0.759425   \n",
       "..        ...       ...       ...  ...       ...       ...       ...   \n",
       "139  2.099209  3.332314  3.349979  ... -0.811381  0.868531  0.675951   \n",
       "140  0.818321  0.026200  0.847482  ...  2.525849  0.478330  0.542727   \n",
       "141  0.837733  1.953138  0.043611  ... -2.053205  0.901911  0.850622   \n",
       "142  0.233197  0.106512  0.042905  ... -0.905600  0.758171  0.800563   \n",
       "143  3.147070  3.911722  2.269961  ...  2.891129  0.129892  0.177300   \n",
       "\n",
       "          cL3       cu1       cu2       cu3       cd1       cd2       cd3  \n",
       "0    0.691859  0.833658  0.371131  0.162815  0.136267  0.994726  0.264156  \n",
       "1    0.260429  0.916768  0.633520  0.122303  0.418708  0.167354  0.941287  \n",
       "2    0.815777  0.380017  0.746301  0.656065  0.663578  0.422784  0.881735  \n",
       "3    0.392754  0.353152  0.347943  0.495145  0.151066  0.608806  0.139240  \n",
       "4    0.678032  0.129718  0.383561  0.247787  0.607342  0.329184  0.957106  \n",
       "..        ...       ...       ...       ...       ...       ...       ...  \n",
       "139  0.619911  0.527944  0.600086  0.355411  0.877646  0.743206  0.104439  \n",
       "140  0.325084  0.249898  0.728256  0.695810  0.883532  0.980817  0.106780  \n",
       "141  0.207919  0.829481  0.527648  0.278083  0.887534  0.888155  0.318002  \n",
       "142  0.354571  0.302464  0.302006  0.437488  0.116389  0.888387  0.887755  \n",
       "143  0.801934  0.111462  0.525176  0.702150  0.560529  0.347667  0.370113  \n",
       "\n",
       "[144 rows x 46 columns]"
      ]
     },
     "execution_count": 67,
     "metadata": {},
     "output_type": "execute_result"
    }
   ],
   "source": [
    "matches"
   ]
  },
  {
   "cell_type": "code",
   "execution_count": 65,
   "metadata": {
    "scrolled": true
   },
   "outputs": [
    {
     "data": {
      "image/png": "[encoded data removed]",
      "text/plain": [
       "<Figure size 432x288 with 1 Axes>"
      ]
     },
     "metadata": {
      "needs_background": "light"
     },
     "output_type": "display_data"
    }
   ],
   "source": [
    "plt.plot(matches.cL1, 'o')\n",
    "plt.plot(matches.cL2, 'o')\n",
    "plt.plot(matches.cL3, 'o')\n",
    "plt.show()"
   ]
  },
  {
   "cell_type": "code",
   "execution_count": 15,
   "metadata": {},
   "outputs": [
    {
     "name": "stdout",
     "output_type": "stream",
     "text": [
      "cu1 0.5179262406523777 0.24525984684304922\n",
      "cu2 0.5482782941008829 0.24424596079248523\n",
      "cu3 0.5228865272363387 0.23865504439554586\n",
      "cd1 0.5658626027418566 0.25891443273084636\n",
      "cd2 0.5773338572010495 0.2731264342167016\n",
      "cd3 0.5322630549100916 0.24450712290315532\n",
      "cL1 0.5448394737637807 0.2676814844124197\n",
      "cL2 0.5468716286091311 0.2618584063407865\n",
      "cL3 0.5211965651811341 0.27005741686619344\n"
     ]
    }
   ],
   "source": [
    "labels = ['cu1', 'cu2', 'cu3', 'cd1', 'cd2', 'cd3', 'cL1', 'cL2', 'cL3']\n",
    "for label in labels:\n",
    "    print(label, np.average(matches[label]), np.std(matches[label]))"
   ]
  },
  {
   "cell_type": "code",
   "execution_count": 20,
   "metadata": {},
   "outputs": [
    {
     "name": "stdout",
     "output_type": "stream",
     "text": [
      "yu11 1.9014882036816434 1.5163821887711106\n",
      "yu12 1.8419207832585975 1.509797145468289\n",
      "yu13 2.0255777824865677 1.4725986700890663\n",
      "yu21 1.6005941854981787 1.3983337710754355\n",
      "yu22 1.503401701504474 1.3678519340322226\n",
      "yu33 1.6071524696026849 1.4510357035651786\n",
      "yu31 1.4276224502142292 1.3142565480012773\n",
      "yu32 1.4522790426734113 1.3379644917028783\n",
      "yu33 1.6071524696026849 1.4510357035651786\n"
     ]
    }
   ],
   "source": [
    "labels = ['yu11', 'yu12', 'yu13', \n",
    "          'yu21', 'yu22', 'yu33', \n",
    "          'yu31', 'yu32', 'yu33']\n",
    "for label in labels:\n",
    "    print(label, np.average(matches[label]), np.std(matches[label]))"
   ]
  },
  {
   "cell_type": "code",
   "execution_count": 21,
   "metadata": {},
   "outputs": [
    {
     "name": "stdout",
     "output_type": "stream",
     "text": [
      "yd11 0.43731080934274125 0.23877892044031615\n",
      "yd12 0.2820022745501616 0.3156746461667886\n",
      "yd13 0.2172908849424562 0.2676977138536494\n",
      "yd21 2.1332870199678937 1.4171061317776235\n",
      "yd22 1.3443248877510763 1.0700976883502298\n",
      "yd33 0.40011215397387556 0.19839916857895207\n",
      "yd31 0.7592922969764343 0.4213695094977104\n",
      "yd32 0.6657073312943411 0.422182031801582\n",
      "yd33 0.40011215397387556 0.19839916857895207\n"
     ]
    }
   ],
   "source": [
    "labels = ['yd11', 'yd12', 'yd13', \n",
    "          'yd21', 'yd22', 'yd33', \n",
    "          'yd31', 'yd32', 'yd33']\n",
    "for label in labels:\n",
    "    print(label, np.average(matches[label]), np.std(matches[label]))"
   ]
  },
  {
   "cell_type": "code",
   "execution_count": 19,
   "metadata": {},
   "outputs": [
    {
     "data": {
      "image/png": "[encoded data removed]",
      "text/plain": [
       "<Figure size 432x288 with 1 Axes>"
      ]
     },
     "metadata": {
      "needs_background": "light"
     },
     "output_type": "display_data"
    }
   ],
   "source": [
    "dat = matches.cL3\n",
    "plt.hist(dat, bins=7)  # arguments are passed to np.histogram\n",
    "plt.title(\"Histogram with 'auto' bins\")\n",
    "plt.show()"
   ]
  },
  {
   "cell_type": "markdown",
   "metadata": {},
   "source": [
    "## Predicting outcome from initial starting point"
   ]
  },
  {
   "cell_type": "code",
   "execution_count": 22,
   "metadata": {},
   "outputs": [
    {
     "data": {
      "text/plain": [
       "35540112.493836805"
      ]
     },
     "execution_count": 22,
     "metadata": {},
     "output_type": "execute_result"
    }
   ],
   "source": [
    "np.average(data[data.outcome==0].chi_squared)"
   ]
  },
  {
   "cell_type": "code",
   "execution_count": 23,
   "metadata": {},
   "outputs": [
    {
     "data": {
      "text/plain": [
       "22454887.54373814"
      ]
     },
     "execution_count": 23,
     "metadata": {},
     "output_type": "execute_result"
    }
   ],
   "source": [
    "np.average(data[data.outcome==1].chi_squared)"
   ]
  },
  {
   "cell_type": "code",
   "execution_count": 24,
   "metadata": {},
   "outputs": [
    {
     "data": {
      "text/plain": [
       "33971953.62897249"
      ]
     },
     "execution_count": 24,
     "metadata": {},
     "output_type": "execute_result"
    }
   ],
   "source": [
    "np.average(data[data.outcome==2].chi_squared)"
   ]
  },
  {
   "cell_type": "code",
   "execution_count": 27,
   "metadata": {
    "scrolled": false
   },
   "outputs": [
    {
     "data": {
      "image/png": "[encoded data removed]",
      "text/plain": [
       "<Figure size 432x288 with 1 Axes>"
      ]
     },
     "metadata": {
      "needs_background": "light"
     },
     "output_type": "display_data"
    }
   ],
   "source": [
    "plt.plot(np.log10(data[data.outcome!=1].chi_squared), 'o')\n",
    "plt.plot(np.log10(data[data.outcome==1].chi_squared), 'o')\n",
    "plt.show()"
   ]
  },
  {
   "cell_type": "markdown",
   "metadata": {},
   "source": [
    "### Processing data"
   ]
  },
  {
   "cell_type": "code",
   "execution_count": 28,
   "metadata": {},
   "outputs": [],
   "source": [
    "# group 0 and 2 together as 0\n",
    "X = data.loc[:, data.columns != 'outcome'].copy()\n",
    "Y = data['outcome'].copy()\n",
    "\n",
    "# relabel Y axis to binary\n",
    "Y[Y == 2] = 0\n",
    "# check\n",
    "# Y.unique()\n",
    "\n",
    "# Use log10 scale for X axis\n",
    "X.chi_squared = np.log10(X.chi_squared)"
   ]
  },
  {
   "cell_type": "markdown",
   "metadata": {},
   "source": [
    "Train test splitting (80-20)"
   ]
  },
  {
   "cell_type": "code",
   "execution_count": 29,
   "metadata": {},
   "outputs": [],
   "source": [
    "x_train, x_test, y_train, y_test = train_test_split(\n",
    "    X, Y, test_size=0.2, random_state=20)"
   ]
  },
  {
   "cell_type": "markdown",
   "metadata": {},
   "source": [
    "### Base line model: Logistic Regression"
   ]
  },
  {
   "cell_type": "code",
   "execution_count": 30,
   "metadata": {},
   "outputs": [
    {
     "data": {
      "text/plain": [
       "LogisticRegression(max_iter=1000)"
      ]
     },
     "execution_count": 30,
     "metadata": {},
     "output_type": "execute_result"
    }
   ],
   "source": [
    "lm = LogisticRegression(max_iter=1000)\n",
    "lm.fit(x_train, y_train)"
   ]
  },
  {
   "cell_type": "code",
   "execution_count": 31,
   "metadata": {},
   "outputs": [
    {
     "data": {
      "text/plain": [
       "0.9631944444444445"
      ]
     },
     "execution_count": 31,
     "metadata": {},
     "output_type": "execute_result"
    }
   ],
   "source": [
    "lm.score(x_train, y_train)"
   ]
  },
  {
   "cell_type": "code",
   "execution_count": 32,
   "metadata": {},
   "outputs": [
    {
     "data": {
      "text/plain": [
       "0.95"
      ]
     },
     "execution_count": 32,
     "metadata": {},
     "output_type": "execute_result"
    }
   ],
   "source": [
    "lm.score(x_test, y_test)"
   ]
  },
  {
   "cell_type": "code",
   "execution_count": 33,
   "metadata": {},
   "outputs": [],
   "source": [
    "y_test_pred = lm.predict(x_test)"
   ]
  },
  {
   "cell_type": "code",
   "execution_count": 34,
   "metadata": {},
   "outputs": [],
   "source": [
    "cm = confusion_matrix(y_test, y_test_pred)"
   ]
  },
  {
   "cell_type": "code",
   "execution_count": 35,
   "metadata": {
    "scrolled": true
   },
   "outputs": [
    {
     "data": {
      "text/plain": [
       "array([[684,   0],\n",
       "       [ 36,   0]])"
      ]
     },
     "execution_count": 35,
     "metadata": {},
     "output_type": "execute_result"
    }
   ],
   "source": [
    "cm"
   ]
  },
  {
   "cell_type": "code",
   "execution_count": 36,
   "metadata": {},
   "outputs": [
    {
     "name": "stdout",
     "output_type": "stream",
     "text": [
      "684\n",
      "36\n"
     ]
    }
   ],
   "source": [
    "print(np.sum(y_test == 0))\n",
    "print(np.sum(y_test == 1))"
   ]
  },
  {
   "cell_type": "markdown",
   "metadata": {},
   "source": [
    "The model is imbalanced, thus not useful. "
   ]
  },
  {
   "cell_type": "code",
   "execution_count": 37,
   "metadata": {
    "scrolled": true
   },
   "outputs": [
    {
     "data": {
      "text/plain": [
       "0.0"
      ]
     },
     "execution_count": 37,
     "metadata": {},
     "output_type": "execute_result"
    }
   ],
   "source": [
    "f1_score(y_test, y_test_pred)"
   ]
  },
  {
   "cell_type": "markdown",
   "metadata": {},
   "source": [
    "### Logistic Regression with SMOTE"
   ]
  },
  {
   "cell_type": "code",
   "execution_count": 38,
   "metadata": {},
   "outputs": [],
   "source": [
    "smk = SMOTETomek()\n",
    "x_smote, y_smote = smk.fit_resample(x_train, y_train)"
   ]
  },
  {
   "cell_type": "code",
   "execution_count": 39,
   "metadata": {},
   "outputs": [
    {
     "data": {
      "text/plain": [
       "LogisticRegression(max_iter=1000)"
      ]
     },
     "execution_count": 39,
     "metadata": {},
     "output_type": "execute_result"
    }
   ],
   "source": [
    "lm2 = LogisticRegression(max_iter=1000)\n",
    "lm2.fit(x_smote, y_smote)"
   ]
  },
  {
   "cell_type": "code",
   "execution_count": 40,
   "metadata": {},
   "outputs": [
    {
     "name": "stdout",
     "output_type": "stream",
     "text": [
      "0.5018037518037518\n",
      "0.95\n"
     ]
    }
   ],
   "source": [
    "print(lm.score(x_smote, y_smote))\n",
    "print(lm.score(x_test, y_test))"
   ]
  },
  {
   "cell_type": "code",
   "execution_count": 41,
   "metadata": {},
   "outputs": [
    {
     "name": "stdout",
     "output_type": "stream",
     "text": [
      "0.1328125\n",
      "[[481 203]\n",
      " [ 19  17]]\n"
     ]
    }
   ],
   "source": [
    "y_test_pred = lm2.predict(x_test)\n",
    "cm = confusion_matrix(y_test, y_test_pred)\n",
    "\n",
    "print(f1_score(y_test, y_test_pred))\n",
    "print(cm)"
   ]
  },
  {
   "cell_type": "markdown",
   "metadata": {},
   "source": [
    "### Gradient Boosting with SMOTE"
   ]
  },
  {
   "cell_type": "code",
   "execution_count": 52,
   "metadata": {},
   "outputs": [
    {
     "name": "stdout",
     "output_type": "stream",
     "text": [
      "0.8414502164502164\n",
      "0.7833333333333333\n"
     ]
    }
   ],
   "source": [
    "clf = GradientBoostingClassifier(n_estimators=300, learning_rate=0.01,\n",
    "                                 max_depth=2, random_state=1).fit(x_smote, y_smote)\n",
    "#ada_clf = AdaBoostClassifier(n_estimators=300, learning_rate=1.0,\n",
    "#                         random_state=0).fit(x_smote, y_smote)\n",
    "print(clf.score(x_smote, y_smote))\n",
    "print(clf.score(x_test, y_test))"
   ]
  },
  {
   "cell_type": "code",
   "execution_count": 53,
   "metadata": {},
   "outputs": [
    {
     "name": "stdout",
     "output_type": "stream",
     "text": [
      "0.8444523093257829\n",
      "0.8414502164502164\n",
      "[[2279  493]\n",
      " [ 386 2386]]\n"
     ]
    }
   ],
   "source": [
    "y_train_pred = clf.predict(x_smote)\n",
    "cm_train = confusion_matrix(y_smote, y_train_pred)\n",
    "fpr, tpr, thresholds = roc_curve(y_smote, y_train_pred)\n",
    "\n",
    "print(f1_score(y_smote, y_train_pred))\n",
    "print(auc(fpr, tpr))\n",
    "print(cm_train)"
   ]
  },
  {
   "cell_type": "code",
   "execution_count": 54,
   "metadata": {},
   "outputs": [
    {
     "name": "stdout",
     "output_type": "stream",
     "text": [
      "0.15217391304347827\n",
      "0.5964912280701754\n",
      "[[550 134]\n",
      " [ 22  14]]\n"
     ]
    }
   ],
   "source": [
    "y_test_pred = clf.predict(x_test)\n",
    "cm = confusion_matrix(y_test, y_test_pred)\n",
    "fpr, tpr, thresholds = roc_curve(y_test, y_test_pred)\n",
    "\n",
    "print(f1_score(y_test, y_test_pred))\n",
    "print(auc(fpr, tpr))\n",
    "print(cm)"
   ]
  },
  {
   "cell_type": "code",
   "execution_count": 58,
   "metadata": {},
   "outputs": [
    {
     "data": {
      "text/plain": [
       "[<matplotlib.lines.Line2D at 0x7f8086d90160>]"
      ]
     },
     "execution_count": 58,
     "metadata": {},
     "output_type": "execute_result"
    },
    {
     "data": {
      "image/png": "[encoded data removed]",
      "text/plain": [
       "<Figure size 432x288 with 1 Axes>"
      ]
     },
     "metadata": {
      "needs_background": "light"
     },
     "output_type": "display_data"
    }
   ],
   "source": [
    "plt.plot(clf.feature_importances_, 'x')"
   ]
  },
  {
   "cell_type": "code",
   "execution_count": 56,
   "metadata": {},
   "outputs": [],
   "source": [
    "import joblib"
   ]
  },
  {
   "cell_type": "code",
   "execution_count": 61,
   "metadata": {},
   "outputs": [
    {
     "data": {
      "text/plain": [
       "['../output/test_model.pkl']"
      ]
     },
     "execution_count": 61,
     "metadata": {},
     "output_type": "execute_result"
    }
   ],
   "source": [
    "joblib.dump(clf, '../output/test_model.pkl', compress=9)"
   ]
  },
  {
   "cell_type": "markdown",
   "metadata": {},
   "source": [
    "### Logistic Regression with Oversampling"
   ]
  },
  {
   "cell_type": "code",
   "execution_count": 62,
   "metadata": {},
   "outputs": [],
   "source": [
    "model_clone = joblib.load('../output/test_model.pkl')"
   ]
  },
  {
   "cell_type": "code",
   "execution_count": 63,
   "metadata": {},
   "outputs": [
    {
     "data": {
      "text/plain": [
       "[<matplotlib.lines.Line2D at 0x7f8087177cd0>]"
      ]
     },
     "execution_count": 63,
     "metadata": {},
     "output_type": "execute_result"
    },
    {
     "data": {
      "image/png": "[encoded data removed]",
      "text/plain": [
       "<Figure size 432x288 with 1 Axes>"
      ]
     },
     "metadata": {
      "needs_background": "light"
     },
     "output_type": "display_data"
    }
   ],
   "source": [
    "plt.plot(model_clone.feature_importances_, 'x')"
   ]
  },
  {
   "cell_type": "code",
   "execution_count": null,
   "metadata": {},
   "outputs": [],
   "source": []
  }
 ],
 "metadata": {
  "kernelspec": {
   "display_name": "Python 3",
   "language": "python",
   "name": "python3"
  },
  "language_info": {
   "codemirror_mode": {
    "name": "ipython",
    "version": 3
   },
   "file_extension": ".py",
   "mimetype": "text/x-python",
   "name": "python",
   "nbconvert_exporter": "python",
   "pygments_lexer": "ipython3",
   "version": "3.8.3"
  }
 },
 "nbformat": 4,
 "nbformat_minor": 4
}
